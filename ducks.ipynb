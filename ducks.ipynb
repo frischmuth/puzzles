{
 "cells": [
  {
   "cell_type": "markdown",
   "metadata": {},
   "source": [
    "Riddler Classic\n",
    "After a long night of frivolous quackery, two delirious ducks are having a difficult time finding each other in their pond. The pond happens to contain a 3×3 grid of rocks.\n",
    "\n",
    "Every minute, each duck randomly swims, independently of the other duck, from one rock to a neighboring rock in the 3×3 grid — up, down, left or right, but not diagonally. So if a duck is at the middle rock, it will next swim to one of the four side rocks with probability 1/4. From a side rock, it will swim to one of the two adjacent corner rocks or back to the middle rock, each with probability 1/3. And from a corner rock, it will swim to one of the two adjacent side rocks with probability 1/2.\n",
    "\n",
    "If the ducks both start at the middle rock, then on average, how long will it take until they’re at the same rock again? (Of course, there’s a 1/4 chance that they’ll swim in the same direction after the first minute, in which case it would only take one minute for them to be at the same rock again. But it could take much longer, if they happen to keep missing each other.)\n",
    "\n",
    "Extra credit: What if there are three or more ducks? If they all start in the middle rock, on average, how long will it take until they are all at the same rock again?"
   ]
  },
  {
   "cell_type": "markdown",
   "metadata": {},
   "source": [
    "Given that they both start on the center rock, there are five states that the two ducks can find themselves in:\n",
    "\n",
    "- A: Adjacent Corners\n",
    "- B: Opposite Edges\n",
    "- C: Opposite Corners\n",
    "- D: Center and Corner\n",
    "- E: Adjacent Edges\n",
    "- XYZ: Same Rock"
   ]
  },
  {
   "cell_type": "code",
   "execution_count": 12,
   "metadata": {},
   "outputs": [],
   "source": [
    "import numpy as np\n",
    "import fractions\n",
    "np.set_printoptions(formatter={'all':lambda x: str(fractions.Fraction(x).limit_denominator())})"
   ]
  },
  {
   "cell_type": "code",
   "execution_count": 13,
   "metadata": {},
   "outputs": [],
   "source": [
    "move = {'Start':'A', # It turns out that being in the start position is the same as being in the 'A' position\n",
    "        'A':lambda: np.random.choice(['Y', 'B', 'E'], p=[1/4, 1/4, 2/4]), \n",
    "        'B':lambda: np.random.choice(['Z', 'A', 'C', 'D'], p=[1/9, 2/9, 2/9, 4/9]),\n",
    "        'C':lambda: np.random.choice(['B', 'E'], p=[2/4, 2/4]),\n",
    "        'D':lambda: np.random.choice(['Y','B', 'E'], p=[2/8, 2/8, 4/8]),\n",
    "        'E':lambda: np.random.choice(['X', 'Z', 'A', 'C', 'D'], p=[1/9, 1/9, 2/9, 1/9, 4/9])\n",
    "        }\n",
    "# It turns out that being in the start position is the same as being in the 'A' position"
   ]
  },
  {
   "cell_type": "code",
   "execution_count": 15,
   "metadata": {},
   "outputs": [
    {
     "data": {
      "text/plain": [
       "4.8457"
      ]
     },
     "execution_count": 15,
     "metadata": {},
     "output_type": "execute_result"
    }
   ],
   "source": [
    "count = 10000\n",
    "run = 0\n",
    "total_time=[]\n",
    "while run<count:\n",
    "    minutes=0\n",
    "    position='A'\n",
    "    while position not in ['X', 'Y', 'Z']:\n",
    "        position=move.get(position)()\n",
    "        minutes+=1\n",
    "    total_time.append(minutes)\n",
    "    run+=1\n",
    "np.sum(total_time)/count\n",
    "    "
   ]
  },
  {
   "cell_type": "code",
   "execution_count": 16,
   "metadata": {},
   "outputs": [
    {
     "data": {
      "text/plain": [
       "4.905405405405405"
      ]
     },
     "execution_count": 16,
     "metadata": {},
     "output_type": "execute_result"
    }
   ],
   "source": [
    "363/74"
   ]
  },
  {
   "cell_type": "code",
   "execution_count": 17,
   "metadata": {},
   "outputs": [
    {
     "data": {
      "text/plain": [
       "(array([1, 2, 3, 4, 5, 6, 7, 8, 9, 10, 11, 12, 13, 14, 15, 16, 17, 18, 19,\n",
       "        20, 21, 22, 23, 24, 25, 26, 27, 28, 29, 30, 31, 32, 33, 34, 35, 42,\n",
       "        43]),\n",
       " array([2546, 1377, 1275, 839, 788, 591, 576, 371, 346, 222, 219, 161, 141,\n",
       "        97, 85, 70, 68, 45, 32, 22, 26, 17, 19, 7, 14, 13, 8, 4, 4, 6, 1,\n",
       "        5, 1, 1, 1, 1, 1]))"
      ]
     },
     "execution_count": 17,
     "metadata": {},
     "output_type": "execute_result"
    }
   ],
   "source": [
    "elements, counts = np.unique(total_time,return_counts=True)\n",
    "elements, counts"
   ]
  },
  {
   "cell_type": "code",
   "execution_count": 19,
   "metadata": {},
   "outputs": [],
   "source": [
    "Q = np.array([[0, 1/4, 0, 0, 2/4],\n",
    "              [2/9, 0, 2/9, 4/9, 0],\n",
    "              [0, 1/2, 0, 0, 1/2],\n",
    "              [0, 1/4, 0, 0, 1/2],\n",
    "              [2/9, 0, 1/9, 4/9, 0]])"
   ]
  },
  {
   "cell_type": "code",
   "execution_count": 20,
   "metadata": {},
   "outputs": [
    {
     "data": {
      "text/plain": [
       "array([[0, 1/4, 0, 0, 1/2],\n",
       "       [2/9, 0, 2/9, 4/9, 0],\n",
       "       [0, 1/2, 0, 0, 1/2],\n",
       "       [0, 1/4, 0, 0, 1/2],\n",
       "       [2/9, 0, 1/9, 4/9, 0]])"
      ]
     },
     "execution_count": 20,
     "metadata": {},
     "output_type": "execute_result"
    }
   ],
   "source": [
    "Q"
   ]
  },
  {
   "cell_type": "code",
   "execution_count": 21,
   "metadata": {},
   "outputs": [],
   "source": [
    "I = np.identity(5)"
   ]
  },
  {
   "cell_type": "code",
   "execution_count": 22,
   "metadata": {},
   "outputs": [],
   "source": [
    "N = np.linalg.inv((I-Q))"
   ]
  },
  {
   "cell_type": "code",
   "execution_count": 23,
   "metadata": {},
   "outputs": [
    {
     "data": {
      "text/plain": [
       "array([[164/111, 57/74, 12/37, 106/111, 51/37],\n",
       "       [76/111, 66/37, 20/37, 152/111, 48/37],\n",
       "       [24/37, 45/37, 54/37, 48/37, 63/37],\n",
       "       [53/111, 57/74, 12/37, 217/111, 51/37],\n",
       "       [68/111, 24/37, 14/37, 136/111, 78/37]])"
      ]
     },
     "execution_count": 23,
     "metadata": {},
     "output_type": "execute_result"
    }
   ],
   "source": [
    "N"
   ]
  },
  {
   "cell_type": "code",
   "execution_count": 24,
   "metadata": {},
   "outputs": [],
   "source": [
    "Ones = np.ones((5,1))"
   ]
  },
  {
   "cell_type": "code",
   "execution_count": 25,
   "metadata": {},
   "outputs": [
    {
     "data": {
      "text/plain": [
       "array([[363/74],\n",
       "       [210/37],\n",
       "       [234/37],\n",
       "       [363/74],\n",
       "       [184/37]])"
      ]
     },
     "execution_count": 25,
     "metadata": {},
     "output_type": "execute_result"
    }
   ],
   "source": [
    "ans = N@Ones\n",
    "ans"
   ]
  },
  {
   "cell_type": "code",
   "execution_count": null,
   "metadata": {},
   "outputs": [],
   "source": []
  }
 ],
 "metadata": {
  "kernelspec": {
   "display_name": "Python 3",
   "language": "python",
   "name": "python3"
  },
  "language_info": {
   "codemirror_mode": {
    "name": "ipython",
    "version": 3
   },
   "file_extension": ".py",
   "mimetype": "text/x-python",
   "name": "python",
   "nbconvert_exporter": "python",
   "pygments_lexer": "ipython3",
   "version": "3.7.4"
  }
 },
 "nbformat": 4,
 "nbformat_minor": 4
}
